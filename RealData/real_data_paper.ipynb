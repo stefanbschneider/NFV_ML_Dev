{
 "cells": [
  {
   "cell_type": "code",
   "execution_count": 1,
   "metadata": {},
   "outputs": [],
   "source": [
    "import os\n",
    "import pandas as pd\n",
    "import matplotlib.pyplot as plt\n",
    "import seaborn as sns\n",
    "from sklearn.preprocessing import LabelEncoder, StandardScaler, PolynomialFeatures\n",
    "from sklearn.model_selection import train_test_split\n",
    "from sklearn.metrics import r2_score, mean_squared_error\n",
    "from sklearn.preprocessing import MinMaxScaler"
   ]
  },
  {
   "cell_type": "code",
   "execution_count": 2,
   "metadata": {},
   "outputs": [],
   "source": [
    "# Load data from path\n",
    "df01 = pd.read_csv(\"csv_experiments_WEB1.csv\")\n",
    "df02 = pd.read_csv(\"csv_experiments_WEB2.csv\")\n",
    "df03 = pd.read_csv(\"csv_experiments_WEB3.csv\")\n",
    "#df = pd.read_csv(\"RealData.csv\")\n",
    "\n",
    "# do renaming and selection\n",
    "mapping = {\n",
    "    \"param__func__mp.input__cmd_start\": \"size\",\n",
    "    \"metric__mp.input.vdu01.0__ab_transfer_rate_kbyte_per_second\": \"throughput\",\n",
    "}\n",
    "\n",
    "mapping01 = mapping.copy()\n",
    "mapping01[\"param__func__de.upb.lb-nginx.0.1__cpu_bw\"] = \"CPU\"\n",
    "\n",
    "mapping02 = mapping.copy()\n",
    "mapping02[\"param__func__de.upb.lb-haproxy.0.1__cpu_bw\"] = \"CPU\"\n",
    "\n",
    "mapping03 = mapping.copy()\n",
    "mapping03[\"param__func__de.upb.px-squid.0.1__cpu_bw\"] = \"CPU\""
   ]
  },
  {
   "cell_type": "code",
   "execution_count": 3,
   "metadata": {},
   "outputs": [],
   "source": [
    "def select_and_rename(df, mapping):\n",
    "    \"\"\"\n",
    "    Helper: Selects columns of df using the keys of the mapping dict.\n",
    "    It renames the columns to the values of the mappings dict.\n",
    "    \"\"\"\n",
    "    # select subset of columns\n",
    "    dff = df[list(mapping.keys())]\n",
    "    # rename \n",
    "    for k, v in mapping.items():\n",
    "        dff.rename(columns={k: v}, inplace=True)\n",
    "    return dff"
   ]
  },
  {
   "cell_type": "code",
   "execution_count": 4,
   "metadata": {},
   "outputs": [],
   "source": [
    "def replaceSize(df):\n",
    "    df[\"size\"] = df[\"size\"].str.replace(\"ab -c 1 -t 60 -n 99999999 -e /tngbench_share/ab_dist.csv -s 60 -k -i http://20.0.0.254:8888/\", \"small\")\n",
    "    df[\"size\"] = df[\"size\"].str.replace(\"ab -c 1 -t 60 -n 99999999 -e /tngbench_share/ab_dist.csv -s 60 -k http://20.0.0.254:8888/bunny.mp4\", \"big\")\n",
    "    df[\"size\"] = df[\"size\"].str.replace(\"ab -c 1 -t 60 -n 99999999 -e /tngbench_share/ab_dist.csv -s 60 -k -i -X 20.0.0.254:3128 http://40.0.0.254:80/\", \"small\")\n",
    "    df[\"size\"] = df[\"size\"].str.replace(\"ab -c 1 -t 60 -n 99999999 -e /tngbench_share/ab_dist.csv -s 60 -k -X 20.0.0.254:3128 http://40.0.0.254:80/bunny.mp4\", \"big\")\n",
    "    return df\n"
   ]
  },
  {
   "cell_type": "code",
   "execution_count": 14,
   "metadata": {},
   "outputs": [],
   "source": [
    "def showAndSave(df, size, name):\n",
    "    y = df['throughput']\n",
    "    X = df[['CPU']]\n",
    "    df = df.drop(columns=['size','vnf'])\n",
    "    data = df.values.tolist()\n",
    "\n",
    "    # Plotting\n",
    "    fig = plt.figure(figsize=(10, 10))\n",
    "    plt.scatter(X,y)\n",
    "    plt.show()\n",
    "    \n",
    "    df = pd.DataFrame(data, columns=['CPU','throughput'])\n",
    "    df.to_csv(\"RealData_\"+name+\"_\"+size+\".csv\", sep=',')"
   ]
  },
  {
   "cell_type": "code",
   "execution_count": 6,
   "metadata": {},
   "outputs": [
    {
     "name": "stderr",
     "output_type": "stream",
     "text": [
      "c:\\users\\stefan\\git-repos\\work\\ai\\venv\\lib\\site-packages\\pandas\\core\\frame.py:3781: SettingWithCopyWarning: \n",
      "A value is trying to be set on a copy of a slice from a DataFrame\n",
      "\n",
      "See the caveats in the documentation: http://pandas.pydata.org/pandas-docs/stable/indexing.html#indexing-view-versus-copy\n",
      "  return super(DataFrame, self).rename(**kwargs)\n"
     ]
    }
   ],
   "source": [
    "df01 = select_and_rename(df01, mapping01)\n",
    "df02 = select_and_rename(df02, mapping02)\n",
    "df03 = select_and_rename(df03, mapping03)\n",
    "df01[\"vnf\"] = \"nginx\"\n",
    "df02[\"vnf\"] = \"haproxy\"\n",
    "df03[\"vnf\"] = \"squid\"\n",
    "\n",
    "#df_list = [df01, df02, df03]\n",
    "\n",
    "df01 = replaceSize(df01)\n",
    "df02 = replaceSize(df02)\n",
    "df03 = replaceSize(df03)\n",
    "\n",
    "# select sub-datasets with small and large flows\n",
    "df1_small = df01.loc[df01[\"size\"] == \"small\"]\n",
    "df1_big = df01.loc[df01[\"size\"] == \"big\"]\n",
    "\n",
    "df2_small = df02.loc[df02[\"size\"] == \"small\"]\n",
    "df2_big = df02.loc[df02[\"size\"] == \"big\"]\n",
    "\n",
    "df3_small = df03.loc[df03[\"size\"] == \"small\"]\n",
    "df3_big = df03.loc[df03[\"size\"] == \"big\"]\n",
    "#print(df['size'],df['MEM'],df['throughput'],df['CPU'])\n"
   ]
  },
  {
   "cell_type": "code",
   "execution_count": 15,
   "metadata": {},
   "outputs": [
    {
     "data": {
      "image/png": "[encoded data removed]",
      "text/plain": [
       "<Figure size 720x720 with 1 Axes>"
      ]
     },
     "metadata": {
      "needs_background": "light"
     },
     "output_type": "display_data"
    }
   ],
   "source": [
    "showAndSave(df1_small, \"small\", \"nginx\")\n",
    "# showAndSave(df1_big, \"big\", \"nginx\")\n",
    "\n",
    "# showAndSave(df2_small, \"small\", \"haproxy\")\n",
    "# showAndSave(df2_big, \"big\", \"haproxy\")\n",
    "\n",
    "# showAndSave(df3_small, \"small\", \"squid\")\n",
    "# showAndSave(df3_big, \"big\", \"squid\")"
   ]
  },
  {
   "cell_type": "code",
   "execution_count": null,
   "metadata": {},
   "outputs": [],
   "source": []
  }
 ],
 "metadata": {
  "kernelspec": {
   "display_name": "Python 3",
   "language": "python",
   "name": "python3"
  },
  "language_info": {
   "codemirror_mode": {
    "name": "ipython",
    "version": 3
   },
   "file_extension": ".py",
   "mimetype": "text/x-python",
   "name": "python",
   "nbconvert_exporter": "python",
   "pygments_lexer": "ipython3",
   "version": "3.6.2"
  }
 },
 "nbformat": 4,
 "nbformat_minor": 4
}
