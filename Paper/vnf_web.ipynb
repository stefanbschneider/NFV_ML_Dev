{
 "cells": [
  {
   "cell_type": "code",
   "execution_count": 235,
   "metadata": {},
   "outputs": [],
   "source": [
    "import warnings\n",
    "warnings.simplefilter(action='ignore', category=FutureWarning)\n",
    "\n",
    "import os\n",
    "import pandas as pd\n",
    "import numpy as np\n",
    "import matplotlib.pyplot as plt\n",
    "import seaborn as sns\n",
    "\n",
    "from sklearn.model_selection import KFold, train_test_split, cross_val_score, GridSearchCV\n",
    "from sklearn.linear_model import LinearRegression, Ridge\n",
    "from sklearn.ensemble import RandomForestRegressor, GradientBoostingRegressor\n",
    "from sklearn.svm import SVR\n",
    "from sklearn.neural_network import MLPRegressor\n",
    "from sklearn.preprocessing import LabelEncoder, StandardScaler, PolynomialFeatures\n",
    "from sklearn.model_selection import train_test_split\n",
    "from sklearn.preprocessing import MinMaxScaler\n",
    "from sklearn.metrics import mean_squared_error\n",
    "\n",
    "sns.set(font_scale=1.2)\n",
    "sns.set_style(\"white\")"
   ]
  },
  {
   "cell_type": "code",
   "execution_count": 236,
   "metadata": {},
   "outputs": [],
   "source": [
    "# function for processing and simplifying the dataset\n",
    "def select_and_rename(df, mapping):\n",
    "    \"\"\"\n",
    "    Helper: Selects columns of df using the keys of the mapping dict.\n",
    "    It renames the columns to the values of the mappings dict.\n",
    "    \"\"\"\n",
    "    # select subset of columns\n",
    "    dff = df[list(mapping.keys())]\n",
    "    # rename \n",
    "    for k, v in mapping.items():\n",
    "        dff.rename(columns={k: v}, inplace=True)\n",
    "    return dff\n",
    "\n",
    "def replaceSize(df):\n",
    "    df[\"size\"] = df[\"size\"].str.replace(\"ab -c 1 -t 60 -n 99999999 -e /tngbench_share/ab_dist.csv -s 60 -k -i http://20.0.0.254:8888/\", \"small\")\n",
    "    df[\"size\"] = df[\"size\"].str.replace(\"ab -c 1 -t 60 -n 99999999 -e /tngbench_share/ab_dist.csv -s 60 -k http://20.0.0.254:8888/bunny.mp4\", \"big\")\n",
    "    df[\"size\"] = df[\"size\"].str.replace(\"ab -c 1 -t 60 -n 99999999 -e /tngbench_share/ab_dist.csv -s 60 -k -i -X 20.0.0.254:3128 http://40.0.0.254:80/\", \"small\")\n",
    "    df[\"size\"] = df[\"size\"].str.replace(\"ab -c 1 -t 60 -n 99999999 -e /tngbench_share/ab_dist.csv -s 60 -k -X 20.0.0.254:3128 http://40.0.0.254:80/bunny.mp4\", \"big\")\n",
    "    return df"
   ]
  },
  {
   "cell_type": "code",
   "execution_count": 237,
   "metadata": {},
   "outputs": [
    {
     "name": "stderr",
     "output_type": "stream",
     "text": [
      "c:\\users\\stefan\\git-repos\\work\\ai\\venv\\lib\\site-packages\\pandas\\core\\frame.py:3781: SettingWithCopyWarning: \n",
      "A value is trying to be set on a copy of a slice from a DataFrame\n",
      "\n",
      "See the caveats in the documentation: http://pandas.pydata.org/pandas-docs/stable/indexing.html#indexing-view-versus-copy\n",
      "  return super(DataFrame, self).rename(**kwargs)\n"
     ]
    }
   ],
   "source": [
    "# Load data from path\n",
    "web1 = pd.read_csv(\"vnf_data/csv_experiments_WEB1.csv\")\n",
    "web2 = pd.read_csv(\"vnf_data/csv_experiments_WEB2.csv\")\n",
    "web3 = pd.read_csv(\"vnf_data/csv_experiments_WEB3.csv\")\n",
    "\n",
    "# do processing, renaming and selection\n",
    "web1[\"vnf\"] = \"nginx\"\n",
    "web2[\"vnf\"] = \"haproxy\"\n",
    "web3[\"vnf\"] = \"squid\"\n",
    "\n",
    "mapping = {\n",
    "    \"param__func__mp.input__cmd_start\": \"size\",\n",
    "    \"metric__mp.input.vdu01.0__ab_transfer_rate_kbyte_per_second\": \"Max. throughput [kB/s]\",\n",
    "}\n",
    "\n",
    "mapping01 = mapping.copy()\n",
    "mapping01[\"param__func__de.upb.lb-nginx.0.1__cpu_bw\"] = \"CPU\"\n",
    "\n",
    "mapping02 = mapping.copy()\n",
    "mapping02[\"param__func__de.upb.lb-haproxy.0.1__cpu_bw\"] = \"CPU\"\n",
    "\n",
    "mapping03 = mapping.copy()\n",
    "mapping03[\"param__func__de.upb.px-squid.0.1__cpu_bw\"] = \"CPU\"\n",
    "\n",
    "web1 = select_and_rename(web1, mapping01)\n",
    "web2 = select_and_rename(web2, mapping02)\n",
    "web3 = select_and_rename(web3, mapping03)\n",
    "\n",
    "web1 = replaceSize(web1)\n",
    "web2 = replaceSize(web2)\n",
    "web3 = replaceSize(web3)"
   ]
  },
  {
   "cell_type": "code",
   "execution_count": 238,
   "metadata": {},
   "outputs": [],
   "source": [
    "# select sub-datasets with small and large flows\n",
    "web1_small = web1.loc[web1[\"size\"] == \"small\"]\n",
    "web1_big = web1.loc[web1[\"size\"] == \"big\"]\n",
    "\n",
    "web2_small = web2.loc[web2[\"size\"] == \"small\"]\n",
    "web2_big = web2.loc[web2[\"size\"] == \"big\"]\n",
    "\n",
    "web3_small = web3.loc[web3[\"size\"] == \"small\"]\n",
    "web3_big = web3.loc[web3[\"size\"] == \"big\"]"
   ]
  },
  {
   "cell_type": "code",
   "execution_count": 239,
   "metadata": {},
   "outputs": [
    {
     "data": {
      "text/plain": [
       "<matplotlib.axes._subplots.AxesSubplot at 0x13be4968780>"
      ]
     },
     "execution_count": 239,
     "metadata": {},
     "output_type": "execute_result"
    },
    {
     "data": {
      "image/png": "[encoded data removed]",
      "text/plain": [
       "<Figure size 432x288 with 1 Axes>"
      ]
     },
     "metadata": {},
     "output_type": "display_data"
    }
   ],
   "source": [
    "# plot cpu and Max. throughput [kB/s]\n",
    "# sns.scatterplot(web1_small['Max. throughput [kB/s]'], web1_small['CPU'])\n",
    "# sns.scatterplot(web1_big['Max. throughput [kB/s]'], web1_big['CPU'])\n",
    "# sns.scatterplot(web2_small['Max. throughput [kB/s]'], web2_small['CPU'])\n",
    "# sns.scatterplot(web2_big['Max. throughput [kB/s]'], web2_big['CPU'])\n",
    "sns.scatterplot(web3_small['Max. throughput [kB/s]'], web3_small['CPU'])\n",
    "# sns.scatterplot(web3_big['Max. throughput [kB/s]'], web3_big['CPU'])"
   ]
  },
  {
   "cell_type": "code",
   "execution_count": 240,
   "metadata": {},
   "outputs": [],
   "source": [
    "def display_scores(scores):\n",
    "    print(f\"Mean: {scores.mean()}\")\n",
    "    print(f\"Std: {scores.std()}\")\n",
    "    \n",
    "def do_cv(model, X_train, y_train, k=5):\n",
    "    # train score\n",
    "    print(\"Train score:\")\n",
    "    model.fit(X_train, y_train)\n",
    "    y_train_pred = model.predict(X_train)\n",
    "    rmse = np.sqrt(mean_squared_error(y_train, y_train_pred))\n",
    "    display_scores(rmse)\n",
    "    \n",
    "    # CV score\n",
    "    print(\"CV score:\")\n",
    "    scores = cross_val_score(model, X_train, y_train, scoring=\"neg_mean_squared_error\", cv=k)\n",
    "    rmse = np.sqrt(-scores)\n",
    "    display_scores(rmse)\n",
    "    \n",
    "    return rmse\n",
    "    \n",
    "def predict_plot_all(model, X, y):\n",
    "    name = type(model).__name__\n",
    "    model.fit(X, y)\n",
    "    y_pred = model.predict(X)\n",
    "    plt.scatter(X, y, label='True')\n",
    "    plt.scatter(X, y_pred, label=name)\n",
    "    plt.legend()\n",
    "    \n",
    "    \n",
    "def check_model(X_train, y_train, model):\n",
    "    \"\"\"Do test, train split; k-fold CV; and visualize\"\"\"\n",
    "    name = type(model).__name__\n",
    "    print(f\"\\n{name}\")\n",
    "    \n",
    "    rmse = do_cv(model, X_train, y_train)\n",
    "#     predict_plot_all(model, X, y)\n",
    "\n",
    "    return rmse"
   ]
  },
  {
   "cell_type": "code",
   "execution_count": 241,
   "metadata": {},
   "outputs": [
    {
     "name": "stdout",
     "output_type": "stream",
     "text": [
      "\n",
      "LinearRegression\n",
      "Train score:\n",
      "Mean: 0.09376333453091194\n",
      "Std: 0.0\n",
      "CV score:\n",
      "Mean: 0.09372887865074392\n",
      "Std: 0.005047422111086191\n",
      "\n",
      "Ridge\n",
      "Train score:\n",
      "Mean: 0.09376333453091194\n",
      "Std: 0.0\n",
      "CV score:\n",
      "Mean: 0.09372887864479709\n",
      "Std: 0.005047422193633465\n",
      "\n",
      "SVR\n",
      "Train score:\n",
      "Mean: 0.09010033957204203\n",
      "Std: 0.0\n",
      "CV score:\n",
      "Mean: 0.14123851328528106\n",
      "Std: 0.008263503519025536\n",
      "\n",
      "RandomForestRegressor\n",
      "Train score:\n",
      "Mean: 0.03402092318391309\n",
      "Std: 0.0\n",
      "CV score:\n",
      "Mean: 0.08279761360698787\n",
      "Std: 0.00935234418219445\n",
      "\n",
      "GradientBoostingRegressor\n",
      "Train score:\n",
      "Mean: 0.05437854099039933\n",
      "Std: 0.0\n",
      "CV score:\n",
      "Mean: 0.07694759526823738\n",
      "Std: 0.0055971617681908736\n",
      "\n",
      "MLPRegressor\n",
      "Train score:\n",
      "Mean: 0.09666386173730757\n",
      "Std: 0.0\n",
      "CV score:\n",
      "Mean: 0.15540114442033343\n",
      "Std: 0.07558534116280662\n"
     ]
    }
   ],
   "source": [
    "data = web3_small\n",
    "\n",
    "# prepare train and test set\n",
    "X = data[['Max. throughput [kB/s]']]\n",
    "y = data['CPU']\n",
    "X_train, X_test, y_train, y_test = train_test_split(X, y, test_size=0.3)\n",
    "\n",
    "rmse_lin = check_model(X_train, y_train, LinearRegression())\n",
    "rmse_ridge = check_model(X_train, y_train, Ridge())\n",
    "rmse_svr = check_model(X_train, y_train, SVR())\n",
    "rmse_forest = check_model(X_train, y_train, RandomForestRegressor())\n",
    "rmse_boost = check_model(X_train, y_train, GradientBoostingRegressor())\n",
    "rmse_mlp = check_model(X_train, y_train, MLPRegressor())"
   ]
  },
  {
   "cell_type": "code",
   "execution_count": 242,
   "metadata": {},
   "outputs": [],
   "source": [
    "# bar plot comparing the RMSE of the different algorithms\n",
    "def barplot_rmse(scores, labels, data_name):\n",
    "    assert len(scores) == len(labels)\n",
    "    \n",
    "    # preparation\n",
    "    rmse_mean = [s.mean() for s in scores]\n",
    "    rmse_std = [s.std() for s in scores]\n",
    "    x = np.arange(len(labels))\n",
    "\n",
    "    # plot\n",
    "    fig, ax = plt.subplots()\n",
    "    plt.bar(x, rmse_mean, color='grey', yerr=rmse_std, capsize=5)\n",
    "\n",
    "    # labels\n",
    "    ax.set_xlabel('Machine learning models')\n",
    "    ax.set_ylabel('RMSE')\n",
    "    ax.set_xticks(x)\n",
    "    ax.set_xticklabels(labels)\n",
    "    \n",
    "    fig.savefig(f'plots/{data_name}_rmse.pdf', bbox_inches='tight')"
   ]
  },
  {
   "cell_type": "code",
   "execution_count": 243,
   "metadata": {},
   "outputs": [
    {
     "data": {
      "image/png": "[encoded data removed]",
      "text/plain": [
       "<Figure size 432x288 with 1 Axes>"
      ]
     },
     "metadata": {},
     "output_type": "display_data"
    }
   ],
   "source": [
    "labels = ['Linear', 'Ridge', 'SVR', 'Forest', 'Boosting', 'MLP']\n",
    "scores = [rmse_lin, rmse_ridge, rmse_svr, rmse_forest, rmse_boost, rmse_mlp]\n",
    "\n",
    "barplot_rmse(scores, labels, 'web3_small')"
   ]
  },
  {
   "cell_type": "code",
   "execution_count": 262,
   "metadata": {},
   "outputs": [
    {
     "name": "stderr",
     "output_type": "stream",
     "text": [
      "c:\\users\\stefan\\git-repos\\work\\ai\\venv\\lib\\site-packages\\sklearn\\neural_network\\multilayer_perceptron.py:562: ConvergenceWarning: Stochastic Optimizer: Maximum iterations (100) reached and the optimization hasn't converged yet.\n",
      "  % self.max_iter, ConvergenceWarning)\n",
      "c:\\users\\stefan\\git-repos\\work\\ai\\venv\\lib\\site-packages\\sklearn\\neural_network\\multilayer_perceptron.py:562: ConvergenceWarning: Stochastic Optimizer: Maximum iterations (100) reached and the optimization hasn't converged yet.\n",
      "  % self.max_iter, ConvergenceWarning)\n",
      "c:\\users\\stefan\\git-repos\\work\\ai\\venv\\lib\\site-packages\\sklearn\\neural_network\\multilayer_perceptron.py:562: ConvergenceWarning: Stochastic Optimizer: Maximum iterations (200) reached and the optimization hasn't converged yet.\n",
      "  % self.max_iter, ConvergenceWarning)\n",
      "c:\\users\\stefan\\git-repos\\work\\ai\\venv\\lib\\site-packages\\sklearn\\neural_network\\multilayer_perceptron.py:562: ConvergenceWarning: Stochastic Optimizer: Maximum iterations (200) reached and the optimization hasn't converged yet.\n",
      "  % self.max_iter, ConvergenceWarning)\n",
      "c:\\users\\stefan\\git-repos\\work\\ai\\venv\\lib\\site-packages\\sklearn\\neural_network\\multilayer_perceptron.py:562: ConvergenceWarning: Stochastic Optimizer: Maximum iterations (500) reached and the optimization hasn't converged yet.\n",
      "  % self.max_iter, ConvergenceWarning)\n",
      "c:\\users\\stefan\\git-repos\\work\\ai\\venv\\lib\\site-packages\\sklearn\\neural_network\\multilayer_perceptron.py:562: ConvergenceWarning: Stochastic Optimizer: Maximum iterations (100) reached and the optimization hasn't converged yet.\n",
      "  % self.max_iter, ConvergenceWarning)\n",
      "c:\\users\\stefan\\git-repos\\work\\ai\\venv\\lib\\site-packages\\sklearn\\neural_network\\multilayer_perceptron.py:562: ConvergenceWarning: Stochastic Optimizer: Maximum iterations (100) reached and the optimization hasn't converged yet.\n",
      "  % self.max_iter, ConvergenceWarning)\n"
     ]
    },
    {
     "name": "stdout",
     "output_type": "stream",
     "text": [
      "{'hidden_layer_sizes': 256, 'learning_rate_init': 0.01, 'max_iter': 100}\n"
     ]
    },
    {
     "data": {
      "text/plain": [
       "0.09783689991119199"
      ]
     },
     "execution_count": 262,
     "metadata": {},
     "output_type": "execute_result"
    }
   ],
   "source": [
    "# TODO: tune hyper params and check difference. probably only do this for the best model or so\n",
    "\n",
    "# MLP\n",
    "param_grid = {\n",
    "    'hidden_layer_sizes': [(64,), (128,), (256), (64,64,)],\n",
    "    'learning_rate_init': [0.01, 0.001, 0.0001],\n",
    "             }\n",
    "grid_search = GridSearchCV(MLPRegressor(), param_grid, cv=5, scoring=\"neg_mean_squared_error\")\n",
    "grid_search.fit(X_train, y_train)\n",
    "\n",
    "# grid_search.best_estimator_\n",
    "# np.sqrt(-grid_search.best_score_)\n",
    "\n",
    "print(grid_search.best_params_)\n",
    "\n",
    "# get CV score of best \n",
    "idx = grid_search.best_index_\n",
    "score = grid_search.cv_results_['mean_test_score'][idx]\n",
    "std = grid_search.cv_results_['std_test_score'][idx]\n",
    "np.sqrt(-score)"
   ]
  },
  {
   "cell_type": "code",
   "execution_count": null,
   "metadata": {},
   "outputs": [],
   "source": []
  },
  {
   "cell_type": "code",
   "execution_count": null,
   "metadata": {},
   "outputs": [],
   "source": []
  }
 ],
 "metadata": {
  "kernelspec": {
   "display_name": "Python 3",
   "language": "python",
   "name": "python3"
  },
  "language_info": {
   "codemirror_mode": {
    "name": "ipython",
    "version": 3
   },
   "file_extension": ".py",
   "mimetype": "text/x-python",
   "name": "python",
   "nbconvert_exporter": "python",
   "pygments_lexer": "ipython3",
   "version": "3.6.2"
  }
 },
 "nbformat": 4,
 "nbformat_minor": 4
}
